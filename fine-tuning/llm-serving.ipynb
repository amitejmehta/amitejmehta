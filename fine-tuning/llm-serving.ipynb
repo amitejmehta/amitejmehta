{
 "cells": [
  {
   "cell_type": "code",
   "execution_count": 1,
   "metadata": {},
   "outputs": [
    {
     "name": "stderr",
     "output_type": "stream",
     "text": [
      "/Users/amitej/amitejmehta/fine-tuning/fine-tuning-venv/lib/python3.9/site-packages/urllib3/__init__.py:35: NotOpenSSLWarning: urllib3 v2 only supports OpenSSL 1.1.1+, currently the 'ssl' module is compiled with 'LibreSSL 2.8.3'. See: https://github.com/urllib3/urllib3/issues/3020\n",
      "  warnings.warn(\n"
     ]
    }
   ],
   "source": [
    "import numpy as np\n",
    "import torch\n",
    "from transformers import AutoModelForCausalLM, AutoTokenizer\n",
    "import time\n",
    "import matplotlib.pyplot as plt"
   ]
  },
  {
   "cell_type": "markdown",
   "metadata": {},
   "source": [
    "*This cell is only necessary if using python environments with jupyter notebooks. Prevents having to restart the kernel in order for changes made to modules imported to be reflected*\n"
   ]
  },
  {
   "cell_type": "code",
   "execution_count": 339,
   "metadata": {},
   "outputs": [],
   "source": [
    "import importlib\n",
    "import inference\n",
    "importlib.reload(inference)\n",
    "\n",
    "\n",
    "# Now, you can use the updated 'your_function_name' or other functions from 'generate'\n",
    "from inference import generate_token, get_top_k, generate, generate_one_sequence"
   ]
  },
  {
   "cell_type": "code",
   "execution_count": 3,
   "metadata": {},
   "outputs": [],
   "source": [
    "model_name = \"/Users/amitej/amitejmehta/models/gpt2\"\n",
    "tokenizer = AutoTokenizer.from_pretrained(model_name)\n",
    "model = AutoModelForCausalLM.from_pretrained(model_name)"
   ]
  },
  {
   "cell_type": "code",
   "execution_count": 17,
   "metadata": {},
   "outputs": [
    {
     "data": {
      "text/plain": [
       "{'input_ids': tensor([[1544,  373,  262, 6478,  286, 4842,  287,  262, 1160,   82,  290,  465,\n",
       "         1438,  373,  978]]), 'attention_mask': tensor([[1, 1, 1, 1, 1, 1, 1, 1, 1, 1, 1, 1, 1, 1, 1]])}"
      ]
     },
     "execution_count": 17,
     "metadata": {},
     "output_type": "execute_result"
    }
   ],
   "source": [
    "prompt = \"He was the boss of Chicago in the 20s and his name was Al\"\n",
    "input = tokenizer(prompt, return_tensors=\"pt\")\n",
    "input"
   ]
  },
  {
   "cell_type": "code",
   "execution_count": 332,
   "metadata": {},
   "outputs": [
    {
     "name": "stdout",
     "output_type": "stream",
     "text": [
      "He was the boss of Chicago in the 20s and his name was Al Gore\n"
     ]
    }
   ],
   "source": [
    "next_token_id, past_key_values = generate_token(input, model)\n",
    "next_token = tokenizer.decode(next_token_id)\n",
    "print(f'{prompt}{next_token}')"
   ]
  },
  {
   "cell_type": "markdown",
   "metadata": {},
   "source": [
    "#### Top K Sampling"
   ]
  },
  {
   "cell_type": "code",
   "execution_count": 347,
   "metadata": {},
   "outputs": [
    {
     "data": {
      "text/plain": [
       "<BarContainer object of 10 artists>"
      ]
     },
     "execution_count": 347,
     "metadata": {},
     "output_type": "execute_result"
    },
    {
     "data": {
      "image/png": "[encoded data removed]",
      "text/plain": [
       "<Figure size 640x480 with 1 Axes>"
      ]
     },
     "metadata": {},
     "output_type": "display_data"
    }
   ],
   "source": [
    "top_k_tokens, top_k_probabilities = get_top_k(input, model, tokenizer, sampling=\"top_k\", k=10)\n",
    "\n",
    "plt.bar(top_k_tokens, top_k_probabilities)"
   ]
  },
  {
   "cell_type": "markdown",
   "metadata": {},
   "source": [
    "As we can see, our model believes the most likely token to follow Al is Gore, despite the context which suggests we are talking about Al Capone. While this error is in large part due to GPT-2s shortcomings, we do see that the second most likely token is ' Cap' the first of two tokens that make up 'Capone'. \n",
    "\n",
    "In the cell below we can see how this next token changes by using top_k sampling. Run multiple times to see it change. The default k value in my implementation is 10, so it will pick from one of the tokens we see in the plot above."
   ]
  },
  {
   "cell_type": "code",
   "execution_count": 292,
   "metadata": {},
   "outputs": [
    {
     "name": "stdout",
     "output_type": "stream",
     "text": [
      "Generated Token Id: tensor([4176])\n",
      "He was the boss of Chicago in the 20s and his name was Al Smith\n"
     ]
    }
   ],
   "source": [
    "next_token_id, past_key_values = generate_token(input, model, sampling=\"top_k\")\n",
    "print(f'Generated Token Id: {next_token_id}')\n",
    "next_token = tokenizer.decode(next_token_id)\n",
    "print(f'{prompt}{next_token}')"
   ]
  },
  {
   "cell_type": "markdown",
   "metadata": {},
   "source": [
    "#### Top P Sampling"
   ]
  },
  {
   "cell_type": "markdown",
   "metadata": {},
   "source": [
    "We can also experiment with top p sampling. Where we sample from the tokens whose cumulative probability adds up to p. We can adjust p below and see which tokens we get from the distribution plotted above. For example for p=0.2 we know that the first 4 or so tokens are chosen."
   ]
  },
  {
   "cell_type": "code",
   "execution_count": 317,
   "metadata": {},
   "outputs": [
    {
     "name": "stdout",
     "output_type": "stream",
     "text": [
      "Generated Token Id: tensor([15465])\n",
      "He was the boss of Chicago in the 20s and his name was Al Shar\n"
     ]
    }
   ],
   "source": [
    "next_token_id, past_key_values = generate_token(input, model, sampling=\"top_p\", p=0.2)\n",
    "print(f'Generated Token Id: {next_token_id}')\n",
    "next_token = tokenizer.decode(next_token_id)\n",
    "print(f'{prompt}{next_token}')"
   ]
  },
  {
   "cell_type": "code",
   "execution_count": 325,
   "metadata": {},
   "outputs": [
    {
     "data": {
      "text/plain": [
       "' put Pl'"
      ]
     },
     "execution_count": 325,
     "metadata": {},
     "output_type": "execute_result"
    }
   ],
   "source": []
  },
  {
   "cell_type": "markdown",
   "metadata": {},
   "source": [
    "#### Caching"
   ]
  },
  {
   "cell_type": "code",
   "execution_count": 308,
   "metadata": {},
   "outputs": [
    {
     "name": "stdout",
     "output_type": "stream",
     "text": [
      "Generated Token Id: tensor([17557])\n",
      "He was the boss of Chicago in the 20s and his name was Al Gore\n"
     ]
    }
   ],
   "source": [
    "next_token_id = generate_token(input, model, caching=False)\n",
    "print(f'Generated Token Id: {next_token_id}')\n",
    "next_token = tokenizer.decode(next_token_id)\n",
    "print(f'{prompt}{next_token}')"
   ]
  },
  {
   "cell_type": "code",
   "execution_count": 340,
   "metadata": {},
   "outputs": [
    {
     "name": "stdout",
     "output_type": "stream",
     "text": [
      "He was the boss of Chicago in the 20s and his name was Al Gore. He was the president of the United States. He was the president of the United States. He was the president of the United States. He was the president of the United States. He was the president of the United States. He was the\n",
      "Generated 50 tokens in 1.975188970565796s\n"
     ]
    }
   ],
   "source": [
    "max_tokens = 50\n",
    "t0 = time.time()\n",
    "generated_tokens = generate_one_sequence(input, model, tokenizer, max_tokens, caching=False)\n",
    "t1 = time.time() - t0\n",
    "print(f'{prompt}{\"\".join(generated_tokens)}')\n",
    "print(f'Generated {max_tokens} tokens in {t1}s')\n"
   ]
  },
  {
   "cell_type": "code",
   "execution_count": 341,
   "metadata": {},
   "outputs": [
    {
     "name": "stdout",
     "output_type": "stream",
     "text": [
      "He was the boss of Chicago in the 20s and his name was Al Gore. He was the president of the United States. He was the president of the United States. He was the president of the United States. He was the president of the United States. He was the president of the United States. He was the\n",
      "Generated 50 tokens in 1.0048449039459229s\n"
     ]
    }
   ],
   "source": [
    "t0 = time.time()\n",
    "generated_tokens = generate_one_sequence(input, model, tokenizer, max_tokens)\n",
    "t1 = time.time() - t0\n",
    "print(f'{prompt}{\"\".join(generated_tokens)}')\n",
    "print(f'Generated {max_tokens} tokens in {t1}s')"
   ]
  },
  {
   "cell_type": "code",
   "execution_count": 342,
   "metadata": {},
   "outputs": [
    {
     "name": "stdout",
     "output_type": "stream",
     "text": [
      "He was the boss of Chicago in the 20s and his name was Al Gore. He was the president of the United States. He was the president of the United States. He was the president of the United States. He was the president of the United States. He was the president of the United States. He was the\n",
      "Generated 50 tokens in 1.216845989227295s\n"
     ]
    }
   ],
   "source": [
    "t0 = time.time()\n",
    "generated_tokens_top_k = generate_one_sequence(input, model, tokenizer, max_tokens, sampling=\"top_p\", p=0.95)\n",
    "t1 = time.time() - t0\n",
    "print(f'{prompt}{\"\".join(generated_tokens)}')\n",
    "print(f'Generated {max_tokens} tokens in {t1}s')"
   ]
  },
  {
   "cell_type": "markdown",
   "metadata": {},
   "source": [
    "#### Temperature"
   ]
  },
  {
   "cell_type": "code",
   "execution_count": 350,
   "metadata": {},
   "outputs": [
    {
     "data": {
      "application/vnd.jupyter.widget-view+json": {
       "model_id": "6c4350cbe545445596c7a4524b3ba03a",
       "version_major": 2,
       "version_minor": 0
      },
      "text/plain": [
       "interactive(children=(IntSlider(value=24, description='i', max=49), IntSlider(value=5, description='temperatur…"
      ]
     },
     "metadata": {},
     "output_type": "display_data"
    },
    {
     "data": {
      "text/plain": [
       "<function __main__.show_plot(i, temperature)>"
      ]
     },
     "execution_count": 350,
     "metadata": {},
     "output_type": "execute_result"
    }
   ],
   "source": [
    "from ipywidgets import interact\n",
    "\n",
    "def show_plot(i, temperature):\n",
    "    x, y = get_top_k(input, model, tokenizer, k=10, i=i, temperature=temperature, sampling=\"top_k\")\n",
    "    plt.bar(x, y)\n",
    "    plt.xlabel('Top 10 Tokens')\n",
    "    plt.ylabel('Probability')\n",
    "    plt.title(\"Probability Distribution of Top 10 Tokens\")\n",
    "    plt.xticks(rotation=-45)\n",
    "    plt.show()\n",
    "\n",
    "# Create a slider\n",
    "interact(show_plot, i=(0, len(generated_tokens) - 1), temperature = (1, 10))"
   ]
  },
  {
   "cell_type": "markdown",
   "metadata": {},
   "source": [
    "For 50 tokens, generation without caching takes twice as long as generation with. The longer the output the more time caching saves us. "
   ]
  },
  {
   "cell_type": "code",
   "execution_count": 344,
   "metadata": {},
   "outputs": [
    {
     "data": {
      "text/plain": [
       "{'input_ids': tensor([[50256, 50256, 50256, 50256, 50256,  1544,   373,   262,  6478,   286,\n",
       "          4842,   287,   262,  1160,    82,   290,   465,  1438,   373,   978],\n",
       "        [  818,  3776,   286, 20902,    11, 35754, 20956,   550,  1936,  1751,\n",
       "            13,  3574, 13325,   284, 18887,    11,   511,  3891,   547,   220],\n",
       "        [50256, 50256, 50256,  4299,  7716,    62, 30001,     7, 15414,    82,\n",
       "            11,  2746,    11, 19232,  2625, 16694,  4716,     1,  2599,   220]]), 'attention_mask': tensor([[0, 0, 0, 0, 0, 1, 1, 1, 1, 1, 1, 1, 1, 1, 1, 1, 1, 1, 1, 1],\n",
       "        [1, 1, 1, 1, 1, 1, 1, 1, 1, 1, 1, 1, 1, 1, 1, 1, 1, 1, 1, 1],\n",
       "        [0, 0, 0, 1, 1, 1, 1, 1, 1, 1, 1, 1, 1, 1, 1, 1, 1, 1, 1, 1]])}"
      ]
     },
     "execution_count": 344,
     "metadata": {},
     "output_type": "execute_result"
    }
   ],
   "source": [
    "prompts = [\"He was the boss of Chicago in the 20s and his name was Al\",\n",
    "           \"In Game of Thrones, Ned Stark had five children. From oldest to youngest, their names were \",\n",
    "           'def generate_token(inputs, model, sampling=\"greedy\"): ']\n",
    "\n",
    "tokenizer.pad_token = tokenizer.eos_token\n",
    "model.config.pad_token_id = model.config.eos_token_id\n",
    "\n",
    "tokenizer.padding_side = \"left\"\n",
    "tokenizer.truncation_side = \"left\"\n",
    "\n",
    "inputs = tokenizer(prompts, padding=True, return_tensors=\"pt\")\n",
    "inputs"
   ]
  },
  {
   "cell_type": "code",
   "execution_count": 345,
   "metadata": {},
   "outputs": [
    {
     "name": "stdout",
     "output_type": "stream",
     "text": [
      "torch.Size([3])\n",
      "He was the boss of Chicago in the 20s and his name was Al in\n",
      "In Game of Thrones, Ned Stark had five children. From oldest to youngest, their names were  \n",
      "def generate_token(inputs, model, sampling=\"greedy\"):  \n"
     ]
    }
   ],
   "source": [
    "next_token_ids, past_key_values = generate_token(inputs, model)\n",
    "\n",
    "print(next_token_ids.shape)\n",
    "next_tokens = tokenizer.batch_decode(next_token_ids)\n",
    "for i, prompt in enumerate(prompts):\n",
    "    print(f'{prompt}{next_tokens[i]}')"
   ]
  },
  {
   "cell_type": "code",
   "execution_count": 346,
   "metadata": {},
   "outputs": [
    {
     "name": "stdout",
     "output_type": "stream",
     "text": [
      "He was the boss of Chicago in the 20s and his name was Al \"\u001b[31m Gore. He was the president of the United States. He was the president of the United States. He was the president of the United States. He was the president of the United States. He was the president of the United States. He was the president of the United States. He was the president of the United States. He was the president of the United States. He was the president of the United States. He was the president of the United States. He was the president of the United States\u001b[0m\n",
      "\n",
      "In Game of Thrones, Ned Stark had five children. From oldest to youngest, their names were  \"\u001b[31m Darth, Dany, Dany, and Dany.\n",
      "Dany was the youngest, and Dany was the oldest.\n",
      "Dany was the youngest, and Dany was the oldest.\n",
      "Dany was the youngest, and Dany was the oldest.\n",
      "Dany was the youngest, and Dany was the oldest.\n",
      "Dany was the youngest, and Dany was the oldest.\n",
      "Dany was the youngest, and Dany was the oldest.\n",
      "D\u001b[0m\n",
      "\n",
      "def generate_token(inputs, model, sampling=\"greedy\"):  \"\u001b[31m return  {\n",
      "\n",
      "\"inputs\": {\n",
      "\n",
      "\"model\": \"greedy\",\n",
      "\n",
      "\"sample\": \"greedy\",\n",
      "\n",
      "}\n",
      "\n",
      "}\n",
      "\n",
      "}\n",
      "\n",
      "# This is the output of the generator\n",
      "\n",
      "#\n",
      "\n",
      "# The output of the generator is a list of all the inputs\n",
      "\n",
      "#\n",
      "\n",
      "# The output of the generator is a list of all the inputs\n",
      "\n",
      "#\n",
      "\n",
      "# The output of the generator is a\u001b[0m\n",
      "\n"
     ]
    }
   ],
   "source": [
    "generated_texts = generate(inputs, model, tokenizer, 100)\n",
    "\n",
    "for prompt, generated in zip(prompts, generated_texts):\n",
    "    print(prompt, f'\"\\x1b[31m{generated}\\x1b[0m\\n')"
   ]
  }
 ],
 "metadata": {
  "kernelspec": {
   "display_name": "fine-tuning-venv",
   "language": "python",
   "name": "python3"
  },
  "language_info": {
   "codemirror_mode": {
    "name": "ipython",
    "version": 3
   },
   "file_extension": ".py",
   "mimetype": "text/x-python",
   "name": "python",
   "nbconvert_exporter": "python",
   "pygments_lexer": "ipython3",
   "version": "3.9.6"
  }
 },
 "nbformat": 4,
 "nbformat_minor": 2
}
